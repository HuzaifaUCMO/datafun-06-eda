{
 "cells": [
  {
   "cell_type": "code",
   "execution_count": null,
   "metadata": {},
   "outputs": [],
   "source": []
  },
  {
   "cell_type": "markdown",
   "metadata": {},
   "source": [
    "# Exploratory Data Analysis (EDA)\n",
    "**Author:** Huzaifa Nadeem  \n",
    "**Date:** [Current Date]  \n",
    "**Purpose:** To perform an exploratory data analysis on the Movies Dataset.\n"
   ]
  },
  {
   "cell_type": "code",
   "execution_count": null,
   "metadata": {},
   "outputs": [],
   "source": [
    "import pandas as pd\n",
    "import matplotlib.pyplot as plt\n",
    "import seaborn as sns\n",
    "sns.set(style=\"whitegrid\")\n",
    "\n",
    "df = pd.read_csv('path_to_movies_dataset.csv')\n",
    "\n",
    "\n",
    "print(df.head(10))\n",
    "\n",
    "print(df.shape)\n",
    "print(df.dtypes)\n",
    "\n",
    "print(df.describe())\n",
    "\n",
    "df.hist(figsize=(10, 8))\n",
    "plt.show()\n",
    "\n",
    "for col in df.select_dtypes(include=['object']).columns:\n",
    "    sns.countplot(x=col, data=df)\n",
    "    plt.title(f'Distribution of {col}')\n",
    "    plt.show()\n",
    "\n",
    "df.rename(columns={'old_column_name': 'new_column_name'}, inplace=True)\n",
    "\n",
    "df['new_column'] = df['existing_column'] * 2  # Example transformation\n",
    "\n",
    "# Correlation heatmap\n",
    "plt.figure(figsize=(10,8))\n",
    "sns.heatmap(df.corr(), annot=True, cmap=\"coolwarm\")\n",
    "plt.title('Correlation Heatmap')\n",
    "plt.show()\n",
    "\n",
    "\n",
    "git add .\n",
    "git commit -m \"Completed EDA steps\"\n",
    "git push -u origin main\n"
   ]
  }
 ],
 "metadata": {
  "language_info": {
   "name": "python"
  }
 },
 "nbformat": 4,
 "nbformat_minor": 2
}
